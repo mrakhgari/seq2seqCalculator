{
 "cells": [
  {
   "cell_type": "markdown",
   "id": "5faae6b0",
   "metadata": {},
   "source": [
    "# seq2seqCalculator"
   ]
  },
  {
   "cell_type": "markdown",
   "id": "00775e45",
   "metadata": {},
   "source": [
    "## Import requirements"
   ]
  },
  {
   "cell_type": "code",
   "execution_count": 4,
   "id": "8f3fc004",
   "metadata": {},
   "outputs": [],
   "source": [
    "from random import seed\n",
    "from random import randint"
   ]
  },
  {
   "cell_type": "markdown",
   "id": "7c49e495",
   "metadata": {},
   "source": [
    "## Data\n",
    "One benefit of this task is that you don't need to download any data. You can generate it on your own! The input consists of the following: \"number\"+\"sign\"+\"number\", which then equals \"number\". The pluses stand for concatenation in this case. \n",
    "The seq2seq model doesn't care what symbols we use, we could use \"+-*/\" as symbols. \n",
    "<!-- We use a one-hot encoding for each symbol accroding the assigned number. For numbers this is straight forward and we end up with something like {0:0, 1:1, 2:2, 3:3, 4:4, 5:5, 6:6, 7:7, 8: -->"
   ]
  },
  {
   "cell_type": "code",
   "execution_count": 49,
   "id": "e63d4b2a",
   "metadata": {},
   "outputs": [],
   "source": [
    "def generate_equations(operators, dataset_size, min_value=0, max_value=10):\n",
    "    '''Generate pairs of equations and solutions to them.\n",
    "        \n",
    "        Each equation has a form of two integers with an operator in between. \n",
    "        Each solution is an integer with the result of the operation.\n",
    "        \n",
    "        \n",
    "        operators: list of strings, allowed operators. \n",
    "        dataset_size: an integer, number of equations to be generated.\n",
    "        min_value: an integer, min value of each operand.\n",
    "        max_value: an integer, max value of each operand.\n",
    "    \n",
    "        result: a list of tuples of strings (equation, solution).\n",
    "    '''\n",
    "    samples = []\n",
    "    number_of_operators = len(operators)\n",
    "    \n",
    "    for _ in range(dataset_size):\n",
    "        equation = (\n",
    "            str(randint(min_value, max_value)) + \n",
    "            operators[randint(0, number_of_operators-1)] +\n",
    "            str(randint(min_value, max_value))\n",
    "        )\n",
    "        \n",
    "        try:\n",
    "            solution = str(int(eval(equation)))\n",
    "        except ZeroDivisionError as e: ## handle x/0 state\n",
    "            equation = equation.replace(\"/\", \"*\")\n",
    "            solution = str(int(eval(equation)))\n",
    "\n",
    "        samples.append((equation, solution))\n",
    "    \n",
    "    return samples"
   ]
  },
  {
   "cell_type": "code",
   "execution_count": 64,
   "id": "dbe0b2d8",
   "metadata": {},
   "outputs": [
    {
     "name": "stdout",
     "output_type": "stream",
     "text": [
      "[('3/6', '0')]\n"
     ]
    }
   ],
   "source": [
    "## Test generate_equations\n",
    "test = generate_equations(\"+-/*\",1)\n",
    "print(test)"
   ]
  }
 ],
 "metadata": {
  "kernelspec": {
   "display_name": "Python 3 (ipykernel)",
   "language": "python",
   "name": "python3"
  },
  "language_info": {
   "codemirror_mode": {
    "name": "ipython",
    "version": 3
   },
   "file_extension": ".py",
   "mimetype": "text/x-python",
   "name": "python",
   "nbconvert_exporter": "python",
   "pygments_lexer": "ipython3",
   "version": "3.10.1"
  }
 },
 "nbformat": 4,
 "nbformat_minor": 5
}
