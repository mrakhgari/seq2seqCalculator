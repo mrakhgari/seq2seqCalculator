{
 "cells": [
  {
   "cell_type": "markdown",
   "id": "72a9b6ec",
   "metadata": {},
   "source": [
    "# seq2seqCalculator"
   ]
  },
  {
   "cell_type": "markdown",
   "id": "d3aae1df",
   "metadata": {},
   "source": [
    "## Import requirements"
   ]
  },
  {
   "cell_type": "code",
   "execution_count": 18,
   "id": "8fca7ae3",
   "metadata": {},
   "outputs": [],
   "source": [
    "from random import seed\n",
    "from random import randint\n",
    "\n",
    "import numpy as np\n",
    "\n",
    "from sklearn.preprocessing import LabelBinarizer "
   ]
  },
  {
   "cell_type": "markdown",
   "id": "b4444551",
   "metadata": {},
   "source": [
    "## Data\n",
    "One benefit of this task is that you don't need to download any data. You can generate it on your own! The input consists of the following: \"number\"+\"sign\"+\"number\", which then equals \"number\". The pluses stand for concatenation in this case. \n",
    "The seq2seq model doesn't care what symbols we use, we could use \"+-*/\" as symbols. \n",
    "<!-- We use a one-hot encoding for each symbol accroding the assigned number. For numbers this is straight forward and we end up with something like {0:0, 1:1, 2:2, 3:3, 4:4, 5:5, 6:6, 7:7, 8: -->"
   ]
  },
  {
   "cell_type": "code",
   "execution_count": 2,
   "id": "83534e00",
   "metadata": {},
   "outputs": [],
   "source": [
    "def generate_equations(operators, dataset_size, min_value=0, max_value=10):\n",
    "    '''Generate pairs of equations and solutions to them.\n",
    "        \n",
    "        Each equation has a form of two integers with an operator in between. \n",
    "        Each solution is an integer with the result of the operation.\n",
    "        \n",
    "        \n",
    "        operators: list of strings, allowed operators. \n",
    "        dataset_size: an integer, number of equations to be generated.\n",
    "        min_value: an integer, min value of each operand.\n",
    "        max_value: an integer, max value of each operand.\n",
    "    \n",
    "        result: a list of tuples of strings (equation, solution).\n",
    "    '''\n",
    "    samples = []\n",
    "    number_of_operators = len(operators)\n",
    "    \n",
    "    for _ in range(dataset_size):\n",
    "        equation = (\n",
    "            str(randint(min_value, max_value)) + \n",
    "            operators[randint(0, number_of_operators-1)] +\n",
    "            str(randint(min_value, max_value))\n",
    "        )\n",
    "        \n",
    "        try:\n",
    "            solution = str(int(eval(equation)))\n",
    "        except ZeroDivisionError as e: ## handle x/0 state\n",
    "            equation = equation.replace(\"/\", \"*\")\n",
    "            solution = str(int(eval(equation)))\n",
    "\n",
    "        samples.append((equation, solution))\n",
    "    \n",
    "    return samples"
   ]
  },
  {
   "cell_type": "code",
   "execution_count": 5,
   "id": "c8a7229d",
   "metadata": {},
   "outputs": [
    {
     "name": "stdout",
     "output_type": "stream",
     "text": [
      "[('7-8', '-1')]\n"
     ]
    }
   ],
   "source": [
    "## Test generate_equations\n",
    "test = generate_equations(\"+-/*\",1)\n",
    "print(test)"
   ]
  },
  {
   "cell_type": "markdown",
   "id": "e747f7c1",
   "metadata": {},
   "source": [
    "## Perpare data for the neural network"
   ]
  },
  {
   "cell_type": "markdown",
   "id": "edbfe646",
   "metadata": {},
   "source": [
    "The maximum input length is “length_nr + 1 + length_nr” which is ```x_max_length``` in our case (for example 7). We would like to also have calculations that are shorter. This is entirely possible, however a seq2seq requires [check] inputs of the same length. So when a calculation is smaller then length ```x_max_length``` we fill it up from the left with spaces, e.g. “____2+2”.\n",
    "Also we need to padd the solutions to ```y_max_length```."
   ]
  },
  {
   "cell_type": "code",
   "execution_count": 9,
   "id": "8f7c6d49",
   "metadata": {},
   "outputs": [],
   "source": [
    "def padding_to_max(equations, x_max_length, y_max_length):\n",
    "    '''Padd the equations to max lengths.\n",
    "    \n",
    "    equations: a list of tuples of strings (equation, solution)\n",
    "    x_max_length: max_len of equation samples.\n",
    "    y_max_length: max_len of solution samples.\n",
    "    \n",
    "    return:  a list of tuples of strings (equation, solution) that padded to max length.\n",
    "    '''\n",
    "    samples = []\n",
    "    for equation, solution in equations:\n",
    "        samples.append((f'{equation:>{x_max_length}}', f'{solution:>{y_max_length}}'))\n",
    "    return samples"
   ]
  },
  {
   "cell_type": "code",
   "execution_count": 10,
   "id": "a0b03aee",
   "metadata": {},
   "outputs": [
    {
     "name": "stdout",
     "output_type": "stream",
     "text": [
      "('6743/2380', '       2')\n",
      "([6, 7, 4, 3, 12, 2, 3, 8, 0], [14, 14, 14, 14, 14, 14, 14, 2])\n"
     ]
    }
   ],
   "source": [
    "def to_ids(equations, word2id):\n",
    "    samples = []\n",
    "    for equation, solution in equations:\n",
    "        e = [word2id[c] for c in equation]\n",
    "        s = [word2id[c] for c in solution]\n",
    "        samples.append((e, s))\n",
    "    return samples\n",
    "\n",
    "d = padding_to_max(data, x_max_length, y_max_length)\n",
    "print(d[0])\n",
    "d = to_ids(d, word2id)\n",
    "print(d[0])"
   ]
  },
  {
   "cell_type": "code",
   "execution_count": 13,
   "id": "d5bf18a6",
   "metadata": {},
   "outputs": [],
   "source": [
    "def one_hot(equations, labels):\n",
    "    label_binarizer = LabelBinarizer() \n",
    "    label_binarizer.fit(labels)\n",
    "    x, y = [], []\n",
    "    for equation, solution in equations:\n",
    "        x.append(label_binarizer.transform(equation))\n",
    "        y.append(label_binarizer.transform(solution))\n",
    "    return x, y"
   ]
  },
  {
   "cell_type": "code",
   "execution_count": null,
   "id": "0865f151",
   "metadata": {},
   "outputs": [],
   "source": [
    "# invert encoding\n",
    "def invert(seq, alphabet):\n",
    "    int_to_char = dict((i, c) for i, c in enumerate(alphabet))\n",
    "    strings = list()\n",
    "    for pattern in seq:\n",
    "        string = int_to_char[argmax(pattern)]\n",
    "        strings.append(string)\n",
    "    return ''.join(strings)\n",
    "\n"
   ]
  },
  {
   "cell_type": "code",
   "execution_count": 19,
   "id": "41a30fe3",
   "metadata": {},
   "outputs": [],
   "source": [
    "def find_max_lengths(equations):\n",
    "    x_max_length, y_max_length = 0, 0\n",
    "    for equation, solution in equations:\n",
    "        x_max_length = max(len(equation), x_max_length) \n",
    "        y_max_length = max(len(solution), y_max_length)\n",
    "    return x_max_length, y_max_length\n",
    "\n",
    "\n",
    "def generate_data(n_samples, allowed_operators, alphabet, word2id, id2word):\n",
    "    # generate pairs\n",
    "    data = generate_equations(allowed_operators, n_samples, min_value=0, max_value=100)    \n",
    "    # find max_lengths\n",
    "    x_max_length, y_max_length = find_max_lengths(data)\n",
    "    \n",
    "    ## padding to max\n",
    "    data = padding_to_max(data, x_max_length, y_max_length)\n",
    "    \n",
    "    ## string to indexs\n",
    "    data = to_ids(data, word2id)\n",
    "    # one hot encoding \n",
    "    x, y = one_hot(data, list(id2word.keys()))\n",
    "\n",
    "    x, y = np.array(x), np.array(y)\n",
    "    \n",
    "    return x, y\n"
   ]
  },
  {
   "cell_type": "code",
   "execution_count": 20,
   "id": "8768b909",
   "metadata": {},
   "outputs": [],
   "source": [
    "allowed_operators = '+-'\n",
    "n_samples = 1000\n",
    "alphabet = '0123456789' + allowed_operators + ' ' ## space for padding\n",
    "\n",
    "word2id = {symbol:i for i, symbol in enumerate(alphabet)}\n",
    "id2word = {i:symbol for symbol, i in word2id.items()}\n",
    "\n",
    "x, y = generate_data(n_samples, allowed_operators, alphabet, word2id, id2word)"
   ]
  },
  {
   "cell_type": "code",
   "execution_count": 22,
   "id": "763ed749",
   "metadata": {},
   "outputs": [
    {
     "name": "stdout",
     "output_type": "stream",
     "text": [
      "shape of X (1000, 6, 13)\n",
      "shape of y (1000, 3, 13)\n",
      "X[0]:\n",
      "[[0 0 0 0 0 0 0 0 0 0 0 0 1]\n",
      " [0 0 1 0 0 0 0 0 0 0 0 0 0]\n",
      " [0 0 0 0 0 1 0 0 0 0 0 0 0]\n",
      " [0 0 0 0 0 0 0 0 0 0 0 1 0]\n",
      " [0 0 0 0 0 0 0 1 0 0 0 0 0]\n",
      " [0 0 0 0 0 0 0 0 0 1 0 0 0]]\n",
      "y[0]\n",
      "[[0 0 0 0 0 0 0 0 0 0 0 1 0]\n",
      " [0 0 0 0 0 1 0 0 0 0 0 0 0]\n",
      " [0 0 0 0 1 0 0 0 0 0 0 0 0]]\n"
     ]
    },
    {
     "ename": "NameError",
     "evalue": "name 'invert' is not defined",
     "output_type": "error",
     "traceback": [
      "\u001b[1;31m---------------------------------------------------------------------------\u001b[0m",
      "\u001b[1;31mNameError\u001b[0m                                 Traceback (most recent call last)",
      "Cell \u001b[1;32mIn[22], line 8\u001b[0m\n\u001b[0;32m      5\u001b[0m \u001b[38;5;28mprint\u001b[39m(\u001b[38;5;124m\"\u001b[39m\u001b[38;5;124my[0]\u001b[39m\u001b[38;5;124m\"\u001b[39m)\n\u001b[0;32m      6\u001b[0m \u001b[38;5;28mprint\u001b[39m(y[\u001b[38;5;241m0\u001b[39m])\n\u001b[1;32m----> 8\u001b[0m \u001b[38;5;28mprint\u001b[39m(\u001b[38;5;124m\"\u001b[39m\u001b[38;5;124minvert X[0]\u001b[39m\u001b[38;5;124m\"\u001b[39m, \u001b[43minvert\u001b[49m(X[\u001b[38;5;241m0\u001b[39m], alphabet) )\n\u001b[0;32m      9\u001b[0m \u001b[38;5;28mprint\u001b[39m(\u001b[38;5;124m\"\u001b[39m\u001b[38;5;124minvert y[0]\u001b[39m\u001b[38;5;124m\"\u001b[39m, invert(y[\u001b[38;5;241m0\u001b[39m], alphabet) )\n",
      "\u001b[1;31mNameError\u001b[0m: name 'invert' is not defined"
     ]
    }
   ],
   "source": [
    "print(\"shape of X\", x.shape)\n",
    "print(\"shape of y\", y.shape)\n",
    "print(\"X[0]:\")\n",
    "print(x[0])\n",
    "print(\"y[0]\")\n",
    "print(y[0])\n",
    "\n",
    "print(\"invert X[0]\", invert(X[0], alphabet) )\n",
    "print(\"invert y[0]\", invert(y[0], alphabet) )"
   ]
  }
 ],
 "metadata": {
  "kernelspec": {
   "display_name": "Python 3 (ipykernel)",
   "language": "python",
   "name": "python3"
  },
  "language_info": {
   "codemirror_mode": {
    "name": "ipython",
    "version": 3
   },
   "file_extension": ".py",
   "mimetype": "text/x-python",
   "name": "python",
   "nbconvert_exporter": "python",
   "pygments_lexer": "ipython3",
   "version": "3.10.1"
  }
 },
 "nbformat": 4,
 "nbformat_minor": 5
}
