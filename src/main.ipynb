{
 "cells": [
  {
   "cell_type": "markdown",
   "id": "72a9b6ec",
   "metadata": {},
   "source": [
    "# seq2seqCalculator"
   ]
  },
  {
   "cell_type": "markdown",
   "id": "d3aae1df",
   "metadata": {},
   "source": [
    "## Import requirements"
   ]
  },
  {
   "cell_type": "code",
   "execution_count": 96,
   "id": "8fca7ae3",
   "metadata": {},
   "outputs": [],
   "source": [
    "from random import seed\n",
    "from random import randint\n",
    "\n",
    "import numpy as np\n",
    "\n",
    "from sklearn.preprocessing import LabelBinarizer \n",
    "\n",
    "\n",
    "from keras.models import Sequential\n",
    "from keras.layers import Dense\n",
    "from keras.layers import LSTM\n",
    "from keras.layers import TimeDistributed\n",
    "from keras.layers import RepeatVector\n",
    "\n",
    "from keras.callbacks import ModelCheckpoint\n",
    "import tensorflow as tf\n",
    "\n",
    "\n",
    "import os"
   ]
  },
  {
   "cell_type": "markdown",
   "id": "b4444551",
   "metadata": {},
   "source": [
    "## Data\n",
    "One benefit of this task is that you don't need to download any data. You can generate it on your own! The input consists of the following: \"number\"+\"sign\"+\"number\", which then equals \"number\". The pluses stand for concatenation in this case. \n",
    "The seq2seq model doesn't care what symbols we use, we could use \"+-*/\" as symbols. \n",
    "<!-- We use a one-hot encoding for each symbol accroding the assigned number. For numbers this is straight forward and we end up with something like {0:0, 1:1, 2:2, 3:3, 4:4, 5:5, 6:6, 7:7, 8: -->"
   ]
  },
  {
   "cell_type": "code",
   "execution_count": 97,
   "id": "83534e00",
   "metadata": {},
   "outputs": [],
   "source": [
    "def generate_equations(operators, dataset_size, min_value=0, max_value=10):\n",
    "    '''Generate pairs of equations and solutions to them.\n",
    "        \n",
    "        Each equation has a form of two integers with an operator in between. \n",
    "        Each solution is an integer with the result of the operation.\n",
    "        \n",
    "        \n",
    "        operators: list of strings, allowed operators. \n",
    "        dataset_size: an integer, number of equations to be generated.\n",
    "        min_value: an integer, min value of each operand.\n",
    "        max_value: an integer, max value of each operand.\n",
    "    \n",
    "        result: a list of tuples of strings (equation, solution).\n",
    "    '''\n",
    "    samples = []\n",
    "    number_of_operators = len(operators)\n",
    "    \n",
    "    for _ in range(dataset_size):\n",
    "        equation = (\n",
    "            str(randint(min_value, max_value)) + \n",
    "            operators[randint(0, number_of_operators-1)] +\n",
    "            str(randint(min_value, max_value))\n",
    "        )\n",
    "        \n",
    "        try:\n",
    "            solution = str(int(eval(equation)))\n",
    "        except ZeroDivisionError as e: ## handle x/0 state\n",
    "            equation = equation.replace(\"/\", \"*\")\n",
    "            solution = str(int(eval(equation)))\n",
    "\n",
    "        samples.append((equation, solution))\n",
    "    \n",
    "    return samples"
   ]
  },
  {
   "cell_type": "code",
   "execution_count": 73,
   "id": "c8a7229d",
   "metadata": {},
   "outputs": [
    {
     "name": "stdout",
     "output_type": "stream",
     "text": [
      "[('1*5', '5')]\n"
     ]
    }
   ],
   "source": [
    "## Test generate_equations\n",
    "test = generate_equations(\"+-/*\",1)\n",
    "print(test)"
   ]
  },
  {
   "cell_type": "markdown",
   "id": "e747f7c1",
   "metadata": {},
   "source": [
    "## Perpare data for the neural network"
   ]
  },
  {
   "cell_type": "markdown",
   "id": "edbfe646",
   "metadata": {},
   "source": [
    "The maximum input length is “length_nr + 1 + length_nr” which is ```x_max_length``` in our case (for example 7). We would like to also have calculations that are shorter. This is entirely possible, however a seq2seq requires [check] inputs of the same length. So when a calculation is smaller then length ```x_max_length``` we fill it up from the left with spaces, e.g. “____2+2”.\n",
    "Also we need to padd the solutions to ```y_max_length```."
   ]
  },
  {
   "cell_type": "code",
   "execution_count": 98,
   "id": "8f7c6d49",
   "metadata": {},
   "outputs": [],
   "source": [
    "def padding_to_max(equations, x_max_length, y_max_length):\n",
    "    '''Padd the equations to max lengths.\n",
    "    \n",
    "    equations: a list of tuples of strings (equation, solution)\n",
    "    x_max_length: max_len of equation samples.\n",
    "    y_max_length: max_len of solution samples.\n",
    "    \n",
    "    return:  a list of tuples of strings (equation, solution) that padded to max length.\n",
    "    '''\n",
    "    samples = []\n",
    "    for equation, solution in equations:\n",
    "        samples.append((f'{equation:>{x_max_length}}', f'{solution:>{y_max_length}}'))\n",
    "    return samples"
   ]
  },
  {
   "cell_type": "code",
   "execution_count": 75,
   "id": "a0b03aee",
   "metadata": {},
   "outputs": [],
   "source": [
    "def to_ids(equations, word2id):\n",
    "    '''Convert equations to ids. \n",
    "    '''\n",
    "    samples = []\n",
    "    for equation, solution in equations:\n",
    "        e = [word2id[c] for c in equation]\n",
    "        s = [word2id[c] for c in solution]\n",
    "        samples.append((e, s))\n",
    "    return samples"
   ]
  },
  {
   "cell_type": "code",
   "execution_count": 5,
   "id": "d5bf18a6",
   "metadata": {},
   "outputs": [],
   "source": [
    "def one_hot(equations, labels):\n",
    "    '''Create one-hot encoder for equations.\n",
    "    '''\n",
    "    label_binarizer = LabelBinarizer() \n",
    "    label_binarizer.fit(labels)\n",
    "    x, y = [], []\n",
    "    for equation, solution in equations:\n",
    "        x.append(label_binarizer.transform(equation))\n",
    "        y.append(label_binarizer.transform(solution))\n",
    "    return x, y"
   ]
  },
  {
   "cell_type": "code",
   "execution_count": 6,
   "id": "45752b4a",
   "metadata": {},
   "outputs": [],
   "source": [
    "# invert encoding\n",
    "def invert(seq, id2word):\n",
    "    strings = list()\n",
    "    for pattern in seq:\n",
    "        string = id2word[np.argmax(pattern)]\n",
    "        strings.append(string)\n",
    "    return ''.join(strings)"
   ]
  },
  {
   "cell_type": "code",
   "execution_count": 119,
   "id": "0ec03ab8",
   "metadata": {},
   "outputs": [],
   "source": [
    "def generate_data(n_samples, allowed_operators, alphabet, word2id, id2word, x_max_length=7, y_max_length=4, min_value=0, max_value=100):\n",
    "    ## generate pairs\n",
    "    data = generate_equations(allowed_operators, n_samples, min_value=min_value, max_value=max_value)    \n",
    "\n",
    "    ## padding to max\n",
    "    data = padding_to_max(data, x_max_length, y_max_length)\n",
    "    \n",
    "    ## string to indexs\n",
    "    data = to_ids(data, word2id)\n",
    "    # one hot encoding \n",
    "    x, y = one_hot(data, list(id2word.keys()))\n",
    "\n",
    "    x, y = np.array(x), np.array(y)\n",
    "    \n",
    "    return x, y\n"
   ]
  },
  {
   "cell_type": "markdown",
   "id": "a4989201",
   "metadata": {},
   "source": [
    "### Setup variables"
   ]
  },
  {
   "cell_type": "markdown",
   "id": "04c4972f",
   "metadata": {},
   "source": [
    "In this section we should set the number of samples, allowed opeatots and alphabet:"
   ]
  },
  {
   "cell_type": "code",
   "execution_count": 129,
   "id": "c9162281",
   "metadata": {},
   "outputs": [],
   "source": [
    "seed(1)\n",
    "\n",
    "allowed_operators = '+-'\n",
    "n_samples = 1000\n",
    "alphabet = '0123456789' + allowed_operators + ' ' ## space for padding\n",
    "\n",
    "word2id = {symbol:i for i, symbol in enumerate(alphabet)}\n",
    "id2word = {i:symbol for symbol, i in word2id.items()}\n",
    "\n",
    "x_max_length, y_max_length = 7, 4\n",
    "min_value, max_value = 0, 100\n",
    "\n",
    "x, y = generate_data(n_samples, allowed_operators, alphabet, word2id, id2word, x_max_length=x_max_length, y_max_length=y_max_length, \n",
    "                    min_value=min_value, max_value=max_value)"
   ]
  },
  {
   "cell_type": "markdown",
   "id": "5a650d2d",
   "metadata": {},
   "source": [
    "Test the functions:"
   ]
  },
  {
   "cell_type": "code",
   "execution_count": 130,
   "id": "ad51499d",
   "metadata": {},
   "outputs": [
    {
     "name": "stdout",
     "output_type": "stream",
     "text": [
      "shape of X (1000, 7, 13)\n",
      "shape of y (1000, 4, 13)\n",
      "X[0]:\n",
      "[[0 0 0 0 0 0 0 0 0 0 0 0 1]\n",
      " [0 0 0 0 0 0 0 0 0 0 0 0 1]\n",
      " [0 1 0 0 0 0 0 0 0 0 0 0 0]\n",
      " [0 0 0 0 0 0 0 1 0 0 0 0 0]\n",
      " [0 0 0 0 0 0 0 0 0 0 1 0 0]\n",
      " [0 0 0 1 0 0 0 0 0 0 0 0 0]\n",
      " [0 0 1 0 0 0 0 0 0 0 0 0 0]]\n",
      "y[0]\n",
      "[[0 0 0 0 0 0 0 0 0 0 0 0 1]\n",
      " [0 0 0 0 0 0 0 0 0 0 0 0 1]\n",
      " [0 0 0 0 1 0 0 0 0 0 0 0 0]\n",
      " [0 0 0 0 0 0 0 0 0 1 0 0 0]]\n",
      "invert X[0]   17+32\n",
      "invert y[0]   49\n"
     ]
    }
   ],
   "source": [
    "print(\"shape of X\", x.shape)\n",
    "print(\"shape of y\", y.shape)\n",
    "print(\"X[0]:\")\n",
    "print(x[0])\n",
    "print(\"y[0]\")\n",
    "print(y[0])\n",
    "print(\"invert X[0]\", invert(x[0], id2word) )\n",
    "print(\"invert y[0]\", invert(y[0], id2word) )"
   ]
  },
  {
   "cell_type": "markdown",
   "id": "a8c861b6",
   "metadata": {},
   "source": [
    "## Model"
   ]
  },
  {
   "cell_type": "code",
   "execution_count": 138,
   "id": "3f144dd2",
   "metadata": {},
   "outputs": [],
   "source": [
    "# define LSTM configuration\n",
    "n_batch = 10\n",
    "n_epoch = 50\n",
    "n_chars = len(alphabet)"
   ]
  },
  {
   "cell_type": "code",
   "execution_count": 137,
   "id": "01f20fa6",
   "metadata": {},
   "outputs": [],
   "source": [
    "# create LSTM\n",
    "def build_model(x_max_length, y_max_length, n_chars):\n",
    "    model = Sequential()\n",
    "    model.add(LSTM(100, input_shape=(x_max_length, n_chars)))\n",
    "    model.add(RepeatVector(y_max_length))\n",
    "    model.add(LSTM(50, return_sequences=True))\n",
    "    model.add(TimeDistributed(Dense(n_chars, activation='softmax')))\n",
    "    model.compile(loss='mean_squared_error', optimizer='adam', metrics=['accuracy'])\n",
    "    return model\n"
   ]
  },
  {
   "cell_type": "markdown",
   "id": "c6d238f2",
   "metadata": {},
   "source": [
    "### Configure checkpoints\n",
    "\n",
    "Use a ```tf.keras.callbacks.ModelCheckpoint``` to ensure that checkpoints are saved during training:\n"
   ]
  },
  {
   "cell_type": "code",
   "execution_count": 133,
   "id": "6c802fe0",
   "metadata": {},
   "outputs": [],
   "source": [
    "# Directory where the checkpoints will be saved\n",
    "checkpoint_dir = './models/training_checkpoints'\n",
    "# Name of the checkpoint files\n",
    "checkpoint_prefix = os.path.join(checkpoint_dir, \"ckpt_{epoch}\")\n",
    "\n",
    "checkpoint_callback = ModelCheckpoint(\n",
    "    filepath=checkpoint_prefix,\n",
    "    save_weights_only=True)"
   ]
  },
  {
   "cell_type": "markdown",
   "id": "a7861c49",
   "metadata": {},
   "source": [
    "Train the model:"
   ]
  },
  {
   "cell_type": "code",
   "execution_count": null,
   "id": "a44846e1",
   "metadata": {},
   "outputs": [],
   "source": [
    "# train LSTM\n",
    "model = build_model(x_max_length, y_max_length, n_chars)\n",
    "\n",
    "print(model.summary())"
   ]
  },
  {
   "cell_type": "code",
   "execution_count": null,
   "id": "0ec85fa5",
   "metadata": {},
   "outputs": [],
   "source": [
    "for i in range(n_epoch):\n",
    "\n",
    "    x, y = generate_data(n_samples, allowed_operators, alphabet, word2id, id2word, x_max_length=x_max_length, y_max_length=y_max_length, \n",
    "                    min_value=min_value, max_value=max_value)\n",
    "    print(i)\n",
    "    model.fit(x, y, epochs=1, batch_size=n_batch, callbacks=[checkpoint_callback])"
   ]
  },
  {
   "cell_type": "code",
   "execution_count": null,
   "id": "8cbbc38a",
   "metadata": {},
   "outputs": [],
   "source": [
    "tf.train.latest_checkpoint(checkpoint_dir)"
   ]
  },
  {
   "cell_type": "code",
   "execution_count": 136,
   "id": "70773b88",
   "metadata": {},
   "outputs": [
    {
     "name": "stdout",
     "output_type": "stream",
     "text": [
      "  70+59 Expected= 129, Predicted= 127\n",
      "  84+39 Expected= 123, Predicted= 114\n",
      "  69+24 Expected=  93, Predicted=  91\n",
      "  20-48 Expected= -28, Predicted= -22\n",
      "  21-30 Expected=  -9, Predicted= -11\n",
      "   3+59 Expected=  62, Predicted=  77\n",
      "  52-24 Expected=  28, Predicted=  30\n",
      "  64-69 Expected=  -5, Predicted=   1\n",
      "  22-27 Expected=  -5, Predicted=  11\n",
      "  10-58 Expected= -48, Predicted= -42\n",
      " 100-67 Expected=  33, Predicted=  20\n",
      "  47-89 Expected= -42, Predicted= -33\n",
      "  53+43 Expected=  96, Predicted=  94\n",
      "  82+43 Expected= 125, Predicted= 125\n",
      "  47+24 Expected=  71, Predicted=  77\n",
      "  52+77 Expected= 129, Predicted= 147\n",
      "  71+57 Expected= 128, Predicted= 127\n",
      "  13+58 Expected=  71, Predicted=  77\n",
      "  95+94 Expected= 189, Predicted= 151\n",
      "  21+10 Expected=  31, Predicted=  66\n"
     ]
    }
   ],
   "source": [
    "model = build_model(x_max_length, y_max_length, n_chars)\n",
    "\n",
    "model.load_weights(tf.train.latest_checkpoint(checkpoint_dir))\n",
    "\n",
    "# evaluate on some new patterns\n",
    "# x, y = generate_data(n_samples, allowed_operators, alphabet, word2id, id2word)    \n",
    "x, y = generate_data(n_samples, allowed_operators, alphabet, word2id, id2word, x_max_length=x_max_length, y_max_length=y_max_length, \n",
    "                    min_value=min_value, max_value=max_value)\n",
    "\n",
    "result = model.predict(x, batch_size=n_batch, verbose=0)\n",
    "\n",
    "# calculate error\n",
    "expected = [invert(x, alphabet) for x in y]\n",
    "predicted = [invert(x, alphabet) for x in result]\n",
    "\n",
    "# show some examples\n",
    "for i in range(20):\n",
    "    print('%s Expected=%s, Predicted=%s' % (invert(x[i], id2word),expected[i], predicted[i]))"
   ]
  }
 ],
 "metadata": {
  "kernelspec": {
   "display_name": "Python 3 (ipykernel)",
   "language": "python",
   "name": "python3"
  },
  "language_info": {
   "codemirror_mode": {
    "name": "ipython",
    "version": 3
   },
   "file_extension": ".py",
   "mimetype": "text/x-python",
   "name": "python",
   "nbconvert_exporter": "python",
   "pygments_lexer": "ipython3",
   "version": "3.10.1"
  }
 },
 "nbformat": 4,
 "nbformat_minor": 5
}
